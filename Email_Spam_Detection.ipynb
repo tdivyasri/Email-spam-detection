{
  "nbformat": 4,
  "nbformat_minor": 0,
  "metadata": {
    "colab": {
      "provenance": []
    },
    "kernelspec": {
      "name": "python3",
      "display_name": "Python 3"
    },
    "language_info": {
      "name": "python"
    }
  },
  "cells": [
    {
      "cell_type": "markdown",
      "source": [
        "# Spam Detection Project - Individual ML Models\n",
        "# =====================\n",
        "# Includes: Problem Statement, Hypothesis, EDA, Data Preprocessing,\n",
        "# Feature Scaling, Logistic Regression, Naive Bayes, SVM - Separate Implementations\n",
        "\n",
        "# Problem Statement:\n",
        "# Build a machine learning model that can classify SMS messages as 'spam' or 'ham' (not spam).\n",
        "\n",
        "# Solution Approach:\n",
        "# 1. Perform EDA to understand data quality (nulls, duplicates, outliers).\n",
        "# 2. Preprocess text data using TF-IDF to convert text to numerical features.\n",
        "# 3. Train models (Logistic Regression, Naive Bayes, SVM) and evaluate their accuracy.\n",
        "\n",
        "# Hypothesis:\n",
        "# H0: Machine Learning models cannot classify spam accurately.\n",
        "# H1: Machine Learning models can classify spam accurately."
      ],
      "metadata": {
        "id": "oC7SI6wacZtf"
      }
    },
    {
      "cell_type": "code",
      "source": [
        "# Import necessary libraries\n",
        "import pandas as pd\n",
        "import matplotlib.pyplot as plt\n",
        "import seaborn as sns\n"
      ],
      "metadata": {
        "id": "FT_99CPjca-m"
      },
      "execution_count": null,
      "outputs": []
    },
    {
      "cell_type": "markdown",
      "source": [
        "# =====================\n",
        "# Load Dataset\n",
        "# ====================="
      ],
      "metadata": {
        "id": "7chl-n0gceSQ"
      }
    },
    {
      "cell_type": "code",
      "source": [
        "df = pd.read_csv(\"spam.csv\", encoding='latin-1')  # Load CSV with appropriate encoding"
      ],
      "metadata": {
        "id": "zOh1Ro5-cgbM"
      },
      "execution_count": null,
      "outputs": []
    },
    {
      "cell_type": "code",
      "source": [
        "# Select relevant columns and rename them for clarity\n",
        "df = df[['v1', 'v2']]\n",
        "# Rename columns for easier access\n",
        "df.columns = ['label', 'message']"
      ],
      "metadata": {
        "id": "xtIt4tY0cl-h"
      },
      "execution_count": null,
      "outputs": []
    },
    {
      "cell_type": "code",
      "source": [
        "\n",
        "# Print first 5 rows to understand dataset\n",
        "print(\"\\nFirst 5 Rows of Data:\")\n",
        "print(df.head(5))"
      ],
      "metadata": {
        "colab": {
          "base_uri": "https://localhost:8080/"
        },
        "id": "DcA7VBqWcnFl",
        "outputId": "a887ce33-c4bf-4167-f2aa-f36f403599b8"
      },
      "execution_count": null,
      "outputs": [
        {
          "output_type": "stream",
          "name": "stdout",
          "text": [
            "\n",
            "First 5 Rows of Data:\n",
            "  label                                            message\n",
            "0   ham  Go until jurong point, crazy.. Available only ...\n",
            "1   ham                      Ok lar... Joking wif u oni...\n",
            "2  spam  Free entry in 2 a wkly comp to win FA Cup fina...\n",
            "3   ham  U dun say so early hor... U c already then say...\n",
            "4   ham  Nah I don't think he goes to usf, he lives aro...\n"
          ]
        }
      ]
    },
    {
      "cell_type": "markdown",
      "source": [
        "\n",
        "# ================================================================================\n",
        "# EDA - Nulls, Duplicates, Outliers\n",
        "#\n",
        "================================================================================"
      ],
      "metadata": {
        "id": "ScSOJTqFcoug"
      }
    },
    {
      "cell_type": "code",
      "source": [
        "# Print shape of dataset\n",
        "print(\"\\nDataFrame Shape (rows, columns):\")\n",
        "print(df.shape)\n",
        "\n"
      ],
      "metadata": {
        "colab": {
          "base_uri": "https://localhost:8080/"
        },
        "id": "VIrnJ2JJcqvH",
        "outputId": "4736d382-86d4-4664-bfde-d8f20b7c7464"
      },
      "execution_count": null,
      "outputs": [
        {
          "output_type": "stream",
          "name": "stdout",
          "text": [
            "\n",
            "DataFrame Shape (rows, columns):\n",
            "(5572, 2)\n"
          ]
        }
      ]
    },
    {
      "cell_type": "code",
      "source": [
        "# Print summary statistics of all columns\n",
        "print(\"\\nData Summary Statistics:\")\n",
        "print(df.describe(include='all'))\n"
      ],
      "metadata": {
        "colab": {
          "base_uri": "https://localhost:8080/"
        },
        "id": "EikLbQZ6cyYI",
        "outputId": "88fc8592-a159-4bc7-c3d7-dfd855c7362d"
      },
      "execution_count": null,
      "outputs": [
        {
          "output_type": "stream",
          "name": "stdout",
          "text": [
            "\n",
            "Data Summary Statistics:\n",
            "       label                 message\n",
            "count   5572                    5572\n",
            "unique     2                    5169\n",
            "top      ham  Sorry, I'll call later\n",
            "freq    4825                      30\n"
          ]
        }
      ]
    },
    {
      "cell_type": "code",
      "source": [
        " # Check for missing values\n",
        "print(\"\\nMissing Values:\")\n",
        "print(df.isnull().sum())\n"
      ],
      "metadata": {
        "colab": {
          "base_uri": "https://localhost:8080/"
        },
        "id": "UOxtzEauc0Hg",
        "outputId": "5d8a333b-17ae-4c53-d283-e08aeb28bcf1"
      },
      "execution_count": null,
      "outputs": [
        {
          "output_type": "stream",
          "name": "stdout",
          "text": [
            "\n",
            "Missing Values:\n",
            "label      0\n",
            "message    0\n",
            "dtype: int64\n"
          ]
        }
      ]
    },
    {
      "cell_type": "code",
      "source": [
        "# Check for duplicate rows\n",
        "print(\"\\nDuplicate Rows:\")\n",
        "print(df.duplicated().sum())\n"
      ],
      "metadata": {
        "colab": {
          "base_uri": "https://localhost:8080/"
        },
        "id": "wUrAAxVmc1zA",
        "outputId": "7c40945e-9279-47bb-960f-474a9f376dbc"
      },
      "execution_count": null,
      "outputs": [
        {
          "output_type": "stream",
          "name": "stdout",
          "text": [
            "\n",
            "Duplicate Rows:\n",
            "403\n"
          ]
        }
      ]
    },
    {
      "cell_type": "code",
      "source": [
        "# Drop duplicate rows to clean dataset\n",
        "df = df.drop_duplicates()"
      ],
      "metadata": {
        "id": "EK4FzZWTc3Oo"
      },
      "execution_count": null,
      "outputs": []
    },
    {
      "cell_type": "code",
      "source": [
        "# Visualize label distribution to check class balance\n",
        "# Countplot for spam vs. ham\n",
        "sns.countplot(data=df, x='label', palette='Set2')\n",
        "plt.title(\"Label Distribution\")\n",
        "plt.show()\n"
      ],
      "metadata": {
        "colab": {
          "base_uri": "https://localhost:8080/",
          "height": 579
        },
        "id": "gpxJrBlLcw39",
        "outputId": "cc75eb91-d1ba-4716-db3a-313ddb58d074"
      },
      "execution_count": null,
      "outputs": [
        {
          "output_type": "stream",
          "name": "stderr",
          "text": [
            "<ipython-input-49-0ed141c7c3c3>:3: FutureWarning: \n",
            "\n",
            "Passing `palette` without assigning `hue` is deprecated and will be removed in v0.14.0. Assign the `x` variable to `hue` and set `legend=False` for the same effect.\n",
            "\n",
            "  sns.countplot(data=df, x='label', palette='Set2')\n"
          ]
        },
        {
          "output_type": "display_data",
          "data": {
            "text/plain": [
              "<Figure size 640x480 with 1 Axes>"
            ],
            "image/png": "[encoded data removed]"
          },
          "metadata": {}
        }
      ]
    },
    {
      "cell_type": "code",
      "source": [
        "# Add new column for message length to detect outliers,  Calculate length of each message\n",
        "df['message_length'] = df['message'].apply(len)"
      ],
      "metadata": {
        "id": "qb0irzAAczUt"
      },
      "execution_count": null,
      "outputs": []
    },
    {
      "cell_type": "code",
      "source": [
        "# Boxplot to visualize outliers in message length\n",
        "sns.boxplot(y=df['message_length'], color='lightblue')\n",
        "plt.title(\"Message Length Outliers\")\n",
        "plt.show()"
      ],
      "metadata": {
        "colab": {
          "base_uri": "https://localhost:8080/",
          "height": 433
        },
        "id": "n0cxb0-mczYG",
        "outputId": "da3b6080-a876-4da2-bfc7-03968b08d456"
      },
      "execution_count": null,
      "outputs": [
        {
          "output_type": "display_data",
          "data": {
            "text/plain": [
              "<Figure size 640x480 with 1 Axes>"
            ],
            "image/png": "[encoded data removed]"
          },
          "metadata": {}
        }
      ]
    },
    {
      "cell_type": "markdown",
      "source": [
        "# =====================\n",
        "# Data Preprocessing & Feature Scaling with TF-IDF\n",
        "# ====================="
      ],
      "metadata": {
        "id": "BHDgjew-c6wV"
      }
    },
    {
      "cell_type": "code",
      "source": [
        "# Map text labels to numeric labels (ham=0, spam=1)\n",
        "label_map = {'ham': 0, 'spam': 1}\n",
        "df['label_num'] = df['label'].map(label_map)  # Apply mapping to create numeric label column"
      ],
      "metadata": {
        "id": "TgY5Qo4Sc34x"
      },
      "execution_count": null,
      "outputs": []
    },
    {
      "cell_type": "code",
      "source": [
        "from sklearn.feature_extraction.text import TfidfVectorizer # Import TfidfVectorizer\n",
        "from sklearn.model_selection import train_test_split # Import train_test_spli\n",
        "\n",
        "# Initialize TF-IDF Vectorizer with 3000 most important words\n",
        "vectorizer = TfidfVectorizer(max_features=3000)\n"
      ],
      "metadata": {
        "id": "u-XcG4GQdL5S"
      },
      "execution_count": null,
      "outputs": []
    },
    {
      "cell_type": "code",
      "source": [
        "# Initialize TF/-IDF Vectorizer with 3000 most important words\n",
        "vectorizer = TfidfVectorizer(max_features=3000)\n",
        "\n",
        "# Transform messages into TF-IDF feature vectors\n",
        "X = vectorizer.fit_transform(df['message']).toarray()  # Features\n",
        "y = df['label_num']  # Target labels"
      ],
      "metadata": {
        "id": "E9gSXStkbuYs"
      },
      "execution_count": null,
      "outputs": []
    },
    {
      "cell_type": "code",
      "source": [
        "# Split dataset into training and testing sets (80% train, 20% test)\n",
        "X_train, X_test, y_train, y_test = train_test_split(X, y, test_size=0.2, random_state=42)"
      ],
      "metadata": {
        "id": "JhpMhsYfdOhd"
      },
      "execution_count": null,
      "outputs": []
    },
    {
      "cell_type": "code",
      "source": [
        "# Import necessary libraries for model evaluation\n",
        "from sklearn.metrics import accuracy_score, confusion_matrix, classification_report\n",
        "from sklearn.linear_model import LogisticRegression # Import LogisticRegression\n",
        "\n",
        "# Initialize and train Logistic Regression model\n",
        "log_model = LogisticRegression()\n",
        "log_model.fit(X_train, y_train)\n",
        "\n",
        "# Make predictions on the test set\n",
        "log_preds = log_model.predict(X_test)\n",
        "\n",
        "# Evaluate performance\n",
        "log_acc = accuracy_score(y_test, log_preds)\n",
        "print(f\"Accuracy: {log_acc:.4f}\")  # Print accuracy\n",
        "print(\"Confusion Matrix:\")\n",
        "print(confusion_matrix(y_test, log_preds))  # Print confusion matrix\n",
        "print(\"Classification Report:\")\n",
        "print(classification_report(y_test, log_preds))  # Print precision, recall, f1-scor"
      ],
      "metadata": {
        "colab": {
          "base_uri": "https://localhost:8080/"
        },
        "id": "DyjOp3CGTJKs",
        "outputId": "ab81202c-08b2-4b5a-a845-c62e7fe56fcc"
      },
      "execution_count": null,
      "outputs": [
        {
          "output_type": "stream",
          "name": "stdout",
          "text": [
            "Accuracy: 0.9671\n",
            "Confusion Matrix:\n",
            "[[885   4]\n",
            " [ 30 115]]\n",
            "Classification Report:\n",
            "              precision    recall  f1-score   support\n",
            "\n",
            "           0       0.97      1.00      0.98       889\n",
            "           1       0.97      0.79      0.87       145\n",
            "\n",
            "    accuracy                           0.97      1034\n",
            "   macro avg       0.97      0.89      0.93      1034\n",
            "weighted avg       0.97      0.97      0.97      1034\n",
            "\n"
          ]
        }
      ]
    },
    {
      "cell_type": "code",
      "source": [
        "\n",
        "# Naive Bayes Model\n",
        "from sklearn.naive_bayes import MultinomialNB # Import MultinomialNB\n",
        "nb_model = MultinomialNB()\n",
        "nb_model.fit(X_train, y_train)\n",
        "nb_preds = nb_model.predict(X_test)\n",
        "\n",
        "\n",
        "\n"
      ],
      "metadata": {
        "id": "JiLDCxRjdXPH"
      },
      "execution_count": null,
      "outputs": []
    },
    {
      "cell_type": "code",
      "source": [
        "# Evaluate performance\n",
        "#Calculate accuracy\n",
        "nb_acc = accuracy_score(y_test, nb_preds)\n",
        "print(f\"Accuracy: {nb_acc:.4f}\")\n",
        "#Confusion  Matrix\n",
        "print(\"Confusion Matrix:\")\n",
        "print(confusion_matrix(y_test, nb_preds))\n",
        "#Classification\n",
        "print(\"Classification Report:\")\n",
        "print(classification_report(y_test, nb_preds))"
      ],
      "metadata": {
        "colab": {
          "base_uri": "https://localhost:8080/"
        },
        "id": "WRBxSL0-gVoq",
        "outputId": "dfa6051e-5a57-4472-ea19-f084a2a4e0c4"
      },
      "execution_count": null,
      "outputs": [
        {
          "output_type": "stream",
          "name": "stdout",
          "text": [
            "Accuracy: 0.9768\n",
            "Confusion Matrix:\n",
            "[[889   0]\n",
            " [ 24 121]]\n",
            "Classification Report:\n",
            "              precision    recall  f1-score   support\n",
            "\n",
            "           0       0.97      1.00      0.99       889\n",
            "           1       1.00      0.83      0.91       145\n",
            "\n",
            "    accuracy                           0.98      1034\n",
            "   macro avg       0.99      0.92      0.95      1034\n",
            "weighted avg       0.98      0.98      0.98      1034\n",
            "\n"
          ]
        }
      ]
    },
    {
      "cell_type": "markdown",
      "source": [
        "\n",
        "# Support Vector Machine\n",
        "# =====================\n"
      ],
      "metadata": {
        "id": "DuI19U03gWTx"
      }
    },
    {
      "cell_type": "code",
      "source": [
        "#Support Vector Machine\n",
        "from sklearn.svm import SVC # Import the SVC class from sklearn.svm\n",
        "svm_model = SVC()  # Initialize model\n",
        "svm_model.fit(X_train, y_train)  # Train model\n",
        "svm_preds = svm_model.predict(X_test)  # Predict on test data\n",
        "\n"
      ],
      "metadata": {
        "id": "B1RxSbHpdfHn"
      },
      "execution_count": null,
      "outputs": []
    },
    {
      "cell_type": "code",
      "source": [
        "# Evaluate performance\n",
        "svm_acc = accuracy_score(y_test, svm_preds)\n",
        "print(f\"Accuracy: {svm_acc:.4f}\")\n",
        "print(\"Confusion Matrix:\")\n",
        "print(confusion_matrix(y_test, svm_preds))\n",
        "print(\"Classification Report:\")\n",
        "print(classification_report(y_test, svm_preds))\n"
      ],
      "metadata": {
        "colab": {
          "base_uri": "https://localhost:8080/"
        },
        "id": "oF-oxhA2iRqG",
        "outputId": "dac9a5df-c537-44fc-bca7-3ab2a698fd9e"
      },
      "execution_count": null,
      "outputs": [
        {
          "output_type": "stream",
          "name": "stdout",
          "text": [
            "Accuracy: 0.9865\n",
            "Confusion Matrix:\n",
            "[[889   0]\n",
            " [ 14 131]]\n",
            "Classification Report:\n",
            "              precision    recall  f1-score   support\n",
            "\n",
            "           0       0.98      1.00      0.99       889\n",
            "           1       1.00      0.90      0.95       145\n",
            "\n",
            "    accuracy                           0.99      1034\n",
            "   macro avg       0.99      0.95      0.97      1034\n",
            "weighted avg       0.99      0.99      0.99      1034\n",
            "\n"
          ]
        }
      ]
    },
    {
      "cell_type": "markdown",
      "source": [
        "\n",
        "# =====================\n",
        "# Hypothesis Testing Conclusion\n",
        "# =====================\n",
        "# Hypothesis:\n",
        "# H0: ML models cannot classify spam accurately.\n",
        "# H1: ML models can classify spam accurately.\n",
        "# Result:\n",
        "# All models have high accuracy (>95%).\n",
        "# Conclusion: Reject H0. Accept H1. ML models reliably classify spam messages."
      ],
      "metadata": {
        "id": "GLG9ToCEi_fd"
      }
    }
  ]
}